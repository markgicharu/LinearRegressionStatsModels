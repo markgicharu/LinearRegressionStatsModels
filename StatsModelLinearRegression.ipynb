{
 "cells": [
  {
   "cell_type": "markdown",
   "metadata": {},
   "source": [
    "## Linear Regression using StatsModels"
   ]
  },
  {
   "cell_type": "markdown",
   "metadata": {},
   "source": [
    "### Import Libraries"
   ]
  },
  {
   "cell_type": "markdown",
   "metadata": {},
   "source": [
    "#### Import Data Analysis"
   ]
  },
  {
   "cell_type": "code",
   "execution_count": 1,
   "metadata": {},
   "outputs": [],
   "source": [
    "import pandas as pd\n",
    "import numpy as np"
   ]
  },
  {
   "cell_type": "markdown",
   "metadata": {},
   "source": [
    "#### Import Visualization"
   ]
  },
  {
   "cell_type": "code",
   "execution_count": 2,
   "metadata": {},
   "outputs": [],
   "source": [
    "import matplotlib.pyplot as plt\n",
    "import seaborn as sns"
   ]
  },
  {
   "cell_type": "code",
   "execution_count": 3,
   "metadata": {},
   "outputs": [],
   "source": [
    "%matplotlib inline"
   ]
  },
  {
   "cell_type": "code",
   "execution_count": 4,
   "metadata": {},
   "outputs": [
    {
     "data": {
      "text/plain": [
       "<Figure size 1152x720 with 0 Axes>"
      ]
     },
     "execution_count": 4,
     "metadata": {},
     "output_type": "execute_result"
    },
    {
     "data": {
      "text/plain": [
       "<Figure size 1152x720 with 0 Axes>"
      ]
     },
     "metadata": {},
     "output_type": "display_data"
    }
   ],
   "source": [
    "plt.figure(figsize=(16, 10))"
   ]
  },
  {
   "cell_type": "markdown",
   "metadata": {},
   "source": [
    "#### Import StatsModels for TimeSeries Analysis"
   ]
  },
  {
   "cell_type": "code",
   "execution_count": 5,
   "metadata": {},
   "outputs": [],
   "source": [
    "import statsmodels.api as sm\n"
   ]
  },
  {
   "cell_type": "code",
   "execution_count": 6,
   "metadata": {},
   "outputs": [
    {
     "data": {
      "text/plain": [
       "'0.12.0'"
      ]
     },
     "execution_count": 6,
     "metadata": {},
     "output_type": "execute_result"
    }
   ],
   "source": [
    "sm.__version__"
   ]
  },
  {
   "cell_type": "markdown",
   "metadata": {},
   "source": [
    "#### Import StatsModels load data and parse into Pandas"
   ]
  },
  {
   "cell_type": "code",
   "execution_count": 7,
   "metadata": {},
   "outputs": [
    {
     "data": {
      "text/html": [
       "<div>\n",
       "<style scoped>\n",
       "    .dataframe tbody tr th:only-of-type {\n",
       "        vertical-align: middle;\n",
       "    }\n",
       "\n",
       "    .dataframe tbody tr th {\n",
       "        vertical-align: top;\n",
       "    }\n",
       "\n",
       "    .dataframe thead th {\n",
       "        text-align: right;\n",
       "    }\n",
       "</style>\n",
       "<table border=\"1\" class=\"dataframe\">\n",
       "  <thead>\n",
       "    <tr style=\"text-align: right;\">\n",
       "      <th></th>\n",
       "      <th>year</th>\n",
       "      <th>quarter</th>\n",
       "      <th>realgdp</th>\n",
       "      <th>realcons</th>\n",
       "      <th>realinv</th>\n",
       "      <th>realgovt</th>\n",
       "      <th>realdpi</th>\n",
       "      <th>cpi</th>\n",
       "      <th>m1</th>\n",
       "      <th>tbilrate</th>\n",
       "      <th>unemp</th>\n",
       "      <th>pop</th>\n",
       "      <th>infl</th>\n",
       "      <th>realint</th>\n",
       "    </tr>\n",
       "  </thead>\n",
       "  <tbody>\n",
       "    <tr>\n",
       "      <th>0</th>\n",
       "      <td>1959.0</td>\n",
       "      <td>1.0</td>\n",
       "      <td>2710.349</td>\n",
       "      <td>1707.4</td>\n",
       "      <td>286.898</td>\n",
       "      <td>470.045</td>\n",
       "      <td>1886.9</td>\n",
       "      <td>28.980</td>\n",
       "      <td>139.7</td>\n",
       "      <td>2.82</td>\n",
       "      <td>5.8</td>\n",
       "      <td>177.146</td>\n",
       "      <td>0.00</td>\n",
       "      <td>0.00</td>\n",
       "    </tr>\n",
       "    <tr>\n",
       "      <th>1</th>\n",
       "      <td>1959.0</td>\n",
       "      <td>2.0</td>\n",
       "      <td>2778.801</td>\n",
       "      <td>1733.7</td>\n",
       "      <td>310.859</td>\n",
       "      <td>481.301</td>\n",
       "      <td>1919.7</td>\n",
       "      <td>29.150</td>\n",
       "      <td>141.7</td>\n",
       "      <td>3.08</td>\n",
       "      <td>5.1</td>\n",
       "      <td>177.830</td>\n",
       "      <td>2.34</td>\n",
       "      <td>0.74</td>\n",
       "    </tr>\n",
       "    <tr>\n",
       "      <th>2</th>\n",
       "      <td>1959.0</td>\n",
       "      <td>3.0</td>\n",
       "      <td>2775.488</td>\n",
       "      <td>1751.8</td>\n",
       "      <td>289.226</td>\n",
       "      <td>491.260</td>\n",
       "      <td>1916.4</td>\n",
       "      <td>29.350</td>\n",
       "      <td>140.5</td>\n",
       "      <td>3.82</td>\n",
       "      <td>5.3</td>\n",
       "      <td>178.657</td>\n",
       "      <td>2.74</td>\n",
       "      <td>1.09</td>\n",
       "    </tr>\n",
       "    <tr>\n",
       "      <th>3</th>\n",
       "      <td>1959.0</td>\n",
       "      <td>4.0</td>\n",
       "      <td>2785.204</td>\n",
       "      <td>1753.7</td>\n",
       "      <td>299.356</td>\n",
       "      <td>484.052</td>\n",
       "      <td>1931.3</td>\n",
       "      <td>29.370</td>\n",
       "      <td>140.0</td>\n",
       "      <td>4.33</td>\n",
       "      <td>5.6</td>\n",
       "      <td>179.386</td>\n",
       "      <td>0.27</td>\n",
       "      <td>4.06</td>\n",
       "    </tr>\n",
       "    <tr>\n",
       "      <th>4</th>\n",
       "      <td>1960.0</td>\n",
       "      <td>1.0</td>\n",
       "      <td>2847.699</td>\n",
       "      <td>1770.5</td>\n",
       "      <td>331.722</td>\n",
       "      <td>462.199</td>\n",
       "      <td>1955.5</td>\n",
       "      <td>29.540</td>\n",
       "      <td>139.6</td>\n",
       "      <td>3.50</td>\n",
       "      <td>5.2</td>\n",
       "      <td>180.007</td>\n",
       "      <td>2.31</td>\n",
       "      <td>1.19</td>\n",
       "    </tr>\n",
       "    <tr>\n",
       "      <th>...</th>\n",
       "      <td>...</td>\n",
       "      <td>...</td>\n",
       "      <td>...</td>\n",
       "      <td>...</td>\n",
       "      <td>...</td>\n",
       "      <td>...</td>\n",
       "      <td>...</td>\n",
       "      <td>...</td>\n",
       "      <td>...</td>\n",
       "      <td>...</td>\n",
       "      <td>...</td>\n",
       "      <td>...</td>\n",
       "      <td>...</td>\n",
       "      <td>...</td>\n",
       "    </tr>\n",
       "    <tr>\n",
       "      <th>198</th>\n",
       "      <td>2008.0</td>\n",
       "      <td>3.0</td>\n",
       "      <td>13324.600</td>\n",
       "      <td>9267.7</td>\n",
       "      <td>1990.693</td>\n",
       "      <td>991.551</td>\n",
       "      <td>9838.3</td>\n",
       "      <td>216.889</td>\n",
       "      <td>1474.7</td>\n",
       "      <td>1.17</td>\n",
       "      <td>6.0</td>\n",
       "      <td>305.270</td>\n",
       "      <td>-3.16</td>\n",
       "      <td>4.33</td>\n",
       "    </tr>\n",
       "    <tr>\n",
       "      <th>199</th>\n",
       "      <td>2008.0</td>\n",
       "      <td>4.0</td>\n",
       "      <td>13141.920</td>\n",
       "      <td>9195.3</td>\n",
       "      <td>1857.661</td>\n",
       "      <td>1007.273</td>\n",
       "      <td>9920.4</td>\n",
       "      <td>212.174</td>\n",
       "      <td>1576.5</td>\n",
       "      <td>0.12</td>\n",
       "      <td>6.9</td>\n",
       "      <td>305.952</td>\n",
       "      <td>-8.79</td>\n",
       "      <td>8.91</td>\n",
       "    </tr>\n",
       "    <tr>\n",
       "      <th>200</th>\n",
       "      <td>2009.0</td>\n",
       "      <td>1.0</td>\n",
       "      <td>12925.410</td>\n",
       "      <td>9209.2</td>\n",
       "      <td>1558.494</td>\n",
       "      <td>996.287</td>\n",
       "      <td>9926.4</td>\n",
       "      <td>212.671</td>\n",
       "      <td>1592.8</td>\n",
       "      <td>0.22</td>\n",
       "      <td>8.1</td>\n",
       "      <td>306.547</td>\n",
       "      <td>0.94</td>\n",
       "      <td>-0.71</td>\n",
       "    </tr>\n",
       "    <tr>\n",
       "      <th>201</th>\n",
       "      <td>2009.0</td>\n",
       "      <td>2.0</td>\n",
       "      <td>12901.504</td>\n",
       "      <td>9189.0</td>\n",
       "      <td>1456.678</td>\n",
       "      <td>1023.528</td>\n",
       "      <td>10077.5</td>\n",
       "      <td>214.469</td>\n",
       "      <td>1653.6</td>\n",
       "      <td>0.18</td>\n",
       "      <td>9.2</td>\n",
       "      <td>307.226</td>\n",
       "      <td>3.37</td>\n",
       "      <td>-3.19</td>\n",
       "    </tr>\n",
       "    <tr>\n",
       "      <th>202</th>\n",
       "      <td>2009.0</td>\n",
       "      <td>3.0</td>\n",
       "      <td>12990.341</td>\n",
       "      <td>9256.0</td>\n",
       "      <td>1486.398</td>\n",
       "      <td>1044.088</td>\n",
       "      <td>10040.6</td>\n",
       "      <td>216.385</td>\n",
       "      <td>1673.9</td>\n",
       "      <td>0.12</td>\n",
       "      <td>9.6</td>\n",
       "      <td>308.013</td>\n",
       "      <td>3.56</td>\n",
       "      <td>-3.44</td>\n",
       "    </tr>\n",
       "  </tbody>\n",
       "</table>\n",
       "<p>203 rows × 14 columns</p>\n",
       "</div>"
      ],
      "text/plain": [
       "       year  quarter    realgdp  realcons   realinv  realgovt  realdpi  \\\n",
       "0    1959.0      1.0   2710.349    1707.4   286.898   470.045   1886.9   \n",
       "1    1959.0      2.0   2778.801    1733.7   310.859   481.301   1919.7   \n",
       "2    1959.0      3.0   2775.488    1751.8   289.226   491.260   1916.4   \n",
       "3    1959.0      4.0   2785.204    1753.7   299.356   484.052   1931.3   \n",
       "4    1960.0      1.0   2847.699    1770.5   331.722   462.199   1955.5   \n",
       "..      ...      ...        ...       ...       ...       ...      ...   \n",
       "198  2008.0      3.0  13324.600    9267.7  1990.693   991.551   9838.3   \n",
       "199  2008.0      4.0  13141.920    9195.3  1857.661  1007.273   9920.4   \n",
       "200  2009.0      1.0  12925.410    9209.2  1558.494   996.287   9926.4   \n",
       "201  2009.0      2.0  12901.504    9189.0  1456.678  1023.528  10077.5   \n",
       "202  2009.0      3.0  12990.341    9256.0  1486.398  1044.088  10040.6   \n",
       "\n",
       "         cpi      m1  tbilrate  unemp      pop  infl  realint  \n",
       "0     28.980   139.7      2.82    5.8  177.146  0.00     0.00  \n",
       "1     29.150   141.7      3.08    5.1  177.830  2.34     0.74  \n",
       "2     29.350   140.5      3.82    5.3  178.657  2.74     1.09  \n",
       "3     29.370   140.0      4.33    5.6  179.386  0.27     4.06  \n",
       "4     29.540   139.6      3.50    5.2  180.007  2.31     1.19  \n",
       "..       ...     ...       ...    ...      ...   ...      ...  \n",
       "198  216.889  1474.7      1.17    6.0  305.270 -3.16     4.33  \n",
       "199  212.174  1576.5      0.12    6.9  305.952 -8.79     8.91  \n",
       "200  212.671  1592.8      0.22    8.1  306.547  0.94    -0.71  \n",
       "201  214.469  1653.6      0.18    9.2  307.226  3.37    -3.19  \n",
       "202  216.385  1673.9      0.12    9.6  308.013  3.56    -3.44  \n",
       "\n",
       "[203 rows x 14 columns]"
      ]
     },
     "execution_count": 7,
     "metadata": {},
     "output_type": "execute_result"
    }
   ],
   "source": [
    "raw_df = sm.datasets.macrodata.load_pandas().data\n",
    "raw_df"
   ]
  },
  {
   "cell_type": "code",
   "execution_count": 8,
   "metadata": {},
   "outputs": [
    {
     "name": "stdout",
     "output_type": "stream",
     "text": [
      "::\n",
      "    Number of Observations - 203\n",
      "\n",
      "    Number of Variables - 14\n",
      "\n",
      "    Variable name definitions::\n",
      "\n",
      "        year      - 1959q1 - 2009q3\n",
      "        quarter   - 1-4\n",
      "        realgdp   - Real gross domestic product (Bil. of chained 2005 US$,\n",
      "                    seasonally adjusted annual rate)\n",
      "        realcons  - Real personal consumption expenditures (Bil. of chained\n",
      "                    2005 US$, seasonally adjusted annual rate)\n",
      "        realinv   - Real gross private domestic investment (Bil. of chained\n",
      "                    2005 US$, seasonally adjusted annual rate)\n",
      "        realgovt  - Real federal consumption expenditures & gross investment\n",
      "                    (Bil. of chained 2005 US$, seasonally adjusted annual rate)\n",
      "        realdpi   - Real private disposable income (Bil. of chained 2005\n",
      "                    US$, seasonally adjusted annual rate)\n",
      "        cpi       - End of the quarter consumer price index for all urban\n",
      "                    consumers: all items (1982-84 = 100, seasonally adjusted).\n",
      "        m1        - End of the quarter M1 nominal money stock (Seasonally\n",
      "                    adjusted)\n",
      "        tbilrate  - Quarterly monthly average of the monthly 3-month\n",
      "                    treasury bill: secondary market rate\n",
      "        unemp     - Seasonally adjusted unemployment rate (%)\n",
      "        pop       - End of the quarter total population: all ages incl. armed\n",
      "                    forces over seas\n",
      "        infl      - Inflation rate (ln(cpi_{t}/cpi_{t-1}) * 400)\n",
      "        realint   - Real interest rate (tbilrate - infl)\n",
      "\n"
     ]
    }
   ],
   "source": [
    "print(sm.datasets.macrodata.NOTE)"
   ]
  },
  {
   "cell_type": "markdown",
   "metadata": {},
   "source": [
    "##### Export to_csv"
   ]
  },
  {
   "cell_type": "code",
   "execution_count": 9,
   "metadata": {},
   "outputs": [],
   "source": [
    "raw_df.to_csv('./data/sm_macro_data.csv', index=False)"
   ]
  },
  {
   "cell_type": "markdown",
   "metadata": {},
   "source": [
    "##### Import Csv"
   ]
  },
  {
   "cell_type": "code",
   "execution_count": 10,
   "metadata": {},
   "outputs": [
    {
     "data": {
      "text/html": [
       "<div>\n",
       "<style scoped>\n",
       "    .dataframe tbody tr th:only-of-type {\n",
       "        vertical-align: middle;\n",
       "    }\n",
       "\n",
       "    .dataframe tbody tr th {\n",
       "        vertical-align: top;\n",
       "    }\n",
       "\n",
       "    .dataframe thead th {\n",
       "        text-align: right;\n",
       "    }\n",
       "</style>\n",
       "<table border=\"1\" class=\"dataframe\">\n",
       "  <thead>\n",
       "    <tr style=\"text-align: right;\">\n",
       "      <th></th>\n",
       "      <th>year</th>\n",
       "      <th>quarter</th>\n",
       "      <th>realgdp</th>\n",
       "      <th>realcons</th>\n",
       "      <th>realinv</th>\n",
       "      <th>realgovt</th>\n",
       "      <th>realdpi</th>\n",
       "      <th>cpi</th>\n",
       "      <th>m1</th>\n",
       "      <th>tbilrate</th>\n",
       "      <th>unemp</th>\n",
       "      <th>pop</th>\n",
       "      <th>infl</th>\n",
       "      <th>realint</th>\n",
       "    </tr>\n",
       "  </thead>\n",
       "  <tbody>\n",
       "    <tr>\n",
       "      <th>0</th>\n",
       "      <td>1959.0</td>\n",
       "      <td>1.0</td>\n",
       "      <td>2710.349</td>\n",
       "      <td>1707.4</td>\n",
       "      <td>286.898</td>\n",
       "      <td>470.045</td>\n",
       "      <td>1886.9</td>\n",
       "      <td>28.98</td>\n",
       "      <td>139.7</td>\n",
       "      <td>2.82</td>\n",
       "      <td>5.8</td>\n",
       "      <td>177.146</td>\n",
       "      <td>0.00</td>\n",
       "      <td>0.00</td>\n",
       "    </tr>\n",
       "    <tr>\n",
       "      <th>1</th>\n",
       "      <td>1959.0</td>\n",
       "      <td>2.0</td>\n",
       "      <td>2778.801</td>\n",
       "      <td>1733.7</td>\n",
       "      <td>310.859</td>\n",
       "      <td>481.301</td>\n",
       "      <td>1919.7</td>\n",
       "      <td>29.15</td>\n",
       "      <td>141.7</td>\n",
       "      <td>3.08</td>\n",
       "      <td>5.1</td>\n",
       "      <td>177.830</td>\n",
       "      <td>2.34</td>\n",
       "      <td>0.74</td>\n",
       "    </tr>\n",
       "    <tr>\n",
       "      <th>2</th>\n",
       "      <td>1959.0</td>\n",
       "      <td>3.0</td>\n",
       "      <td>2775.488</td>\n",
       "      <td>1751.8</td>\n",
       "      <td>289.226</td>\n",
       "      <td>491.260</td>\n",
       "      <td>1916.4</td>\n",
       "      <td>29.35</td>\n",
       "      <td>140.5</td>\n",
       "      <td>3.82</td>\n",
       "      <td>5.3</td>\n",
       "      <td>178.657</td>\n",
       "      <td>2.74</td>\n",
       "      <td>1.09</td>\n",
       "    </tr>\n",
       "    <tr>\n",
       "      <th>3</th>\n",
       "      <td>1959.0</td>\n",
       "      <td>4.0</td>\n",
       "      <td>2785.204</td>\n",
       "      <td>1753.7</td>\n",
       "      <td>299.356</td>\n",
       "      <td>484.052</td>\n",
       "      <td>1931.3</td>\n",
       "      <td>29.37</td>\n",
       "      <td>140.0</td>\n",
       "      <td>4.33</td>\n",
       "      <td>5.6</td>\n",
       "      <td>179.386</td>\n",
       "      <td>0.27</td>\n",
       "      <td>4.06</td>\n",
       "    </tr>\n",
       "    <tr>\n",
       "      <th>4</th>\n",
       "      <td>1960.0</td>\n",
       "      <td>1.0</td>\n",
       "      <td>2847.699</td>\n",
       "      <td>1770.5</td>\n",
       "      <td>331.722</td>\n",
       "      <td>462.199</td>\n",
       "      <td>1955.5</td>\n",
       "      <td>29.54</td>\n",
       "      <td>139.6</td>\n",
       "      <td>3.50</td>\n",
       "      <td>5.2</td>\n",
       "      <td>180.007</td>\n",
       "      <td>2.31</td>\n",
       "      <td>1.19</td>\n",
       "    </tr>\n",
       "  </tbody>\n",
       "</table>\n",
       "</div>"
      ],
      "text/plain": [
       "     year  quarter   realgdp  realcons  realinv  realgovt  realdpi    cpi  \\\n",
       "0  1959.0      1.0  2710.349    1707.4  286.898   470.045   1886.9  28.98   \n",
       "1  1959.0      2.0  2778.801    1733.7  310.859   481.301   1919.7  29.15   \n",
       "2  1959.0      3.0  2775.488    1751.8  289.226   491.260   1916.4  29.35   \n",
       "3  1959.0      4.0  2785.204    1753.7  299.356   484.052   1931.3  29.37   \n",
       "4  1960.0      1.0  2847.699    1770.5  331.722   462.199   1955.5  29.54   \n",
       "\n",
       "      m1  tbilrate  unemp      pop  infl  realint  \n",
       "0  139.7      2.82    5.8  177.146  0.00     0.00  \n",
       "1  141.7      3.08    5.1  177.830  2.34     0.74  \n",
       "2  140.5      3.82    5.3  178.657  2.74     1.09  \n",
       "3  140.0      4.33    5.6  179.386  0.27     4.06  \n",
       "4  139.6      3.50    5.2  180.007  2.31     1.19  "
      ]
     },
     "execution_count": 10,
     "metadata": {},
     "output_type": "execute_result"
    }
   ],
   "source": [
    "macro_df = pd.read_csv('./data/sm_macro_data.csv', parse_dates=['year'])\n",
    "macro_df.head()"
   ]
  },
  {
   "cell_type": "code",
   "execution_count": 11,
   "metadata": {},
   "outputs": [
    {
     "name": "stdout",
     "output_type": "stream",
     "text": [
      "<class 'pandas.core.frame.DataFrame'>\n",
      "RangeIndex: 203 entries, 0 to 202\n",
      "Data columns (total 14 columns):\n",
      " #   Column    Non-Null Count  Dtype  \n",
      "---  ------    --------------  -----  \n",
      " 0   year      203 non-null    object \n",
      " 1   quarter   203 non-null    float64\n",
      " 2   realgdp   203 non-null    float64\n",
      " 3   realcons  203 non-null    float64\n",
      " 4   realinv   203 non-null    float64\n",
      " 5   realgovt  203 non-null    float64\n",
      " 6   realdpi   203 non-null    float64\n",
      " 7   cpi       203 non-null    float64\n",
      " 8   m1        203 non-null    float64\n",
      " 9   tbilrate  203 non-null    float64\n",
      " 10  unemp     203 non-null    float64\n",
      " 11  pop       203 non-null    float64\n",
      " 12  infl      203 non-null    float64\n",
      " 13  realint   203 non-null    float64\n",
      "dtypes: float64(13), object(1)\n",
      "memory usage: 22.3+ KB\n"
     ]
    }
   ],
   "source": [
    "macro_df.info()"
   ]
  },
  {
   "cell_type": "markdown",
   "metadata": {},
   "source": [
    "##### Need to convert to float then int"
   ]
  },
  {
   "cell_type": "code",
   "execution_count": 12,
   "metadata": {},
   "outputs": [
    {
     "name": "stdout",
     "output_type": "stream",
     "text": [
      "<class 'pandas.core.frame.DataFrame'>\n",
      "RangeIndex: 203 entries, 0 to 202\n",
      "Data columns (total 14 columns):\n",
      " #   Column    Non-Null Count  Dtype  \n",
      "---  ------    --------------  -----  \n",
      " 0   year      203 non-null    float64\n",
      " 1   quarter   203 non-null    float64\n",
      " 2   realgdp   203 non-null    float64\n",
      " 3   realcons  203 non-null    float64\n",
      " 4   realinv   203 non-null    float64\n",
      " 5   realgovt  203 non-null    float64\n",
      " 6   realdpi   203 non-null    float64\n",
      " 7   cpi       203 non-null    float64\n",
      " 8   m1        203 non-null    float64\n",
      " 9   tbilrate  203 non-null    float64\n",
      " 10  unemp     203 non-null    float64\n",
      " 11  pop       203 non-null    float64\n",
      " 12  infl      203 non-null    float64\n",
      " 13  realint   203 non-null    float64\n",
      "dtypes: float64(14)\n",
      "memory usage: 22.3 KB\n"
     ]
    }
   ],
   "source": [
    "macro_df['year'] = macro_df['year'].astype(float)\n",
    "macro_df.info()"
   ]
  },
  {
   "cell_type": "code",
   "execution_count": 13,
   "metadata": {},
   "outputs": [
    {
     "name": "stdout",
     "output_type": "stream",
     "text": [
      "<class 'pandas.core.frame.DataFrame'>\n",
      "RangeIndex: 203 entries, 0 to 202\n",
      "Data columns (total 14 columns):\n",
      " #   Column    Non-Null Count  Dtype  \n",
      "---  ------    --------------  -----  \n",
      " 0   year      203 non-null    int32  \n",
      " 1   quarter   203 non-null    float64\n",
      " 2   realgdp   203 non-null    float64\n",
      " 3   realcons  203 non-null    float64\n",
      " 4   realinv   203 non-null    float64\n",
      " 5   realgovt  203 non-null    float64\n",
      " 6   realdpi   203 non-null    float64\n",
      " 7   cpi       203 non-null    float64\n",
      " 8   m1        203 non-null    float64\n",
      " 9   tbilrate  203 non-null    float64\n",
      " 10  unemp     203 non-null    float64\n",
      " 11  pop       203 non-null    float64\n",
      " 12  infl      203 non-null    float64\n",
      " 13  realint   203 non-null    float64\n",
      "dtypes: float64(13), int32(1)\n",
      "memory usage: 21.5 KB\n"
     ]
    }
   ],
   "source": [
    "macro_df['year'] = macro_df['year'].astype(int)\n",
    "macro_df.info()"
   ]
  },
  {
   "cell_type": "code",
   "execution_count": 14,
   "metadata": {},
   "outputs": [
    {
     "data": {
      "text/html": [
       "<div>\n",
       "<style scoped>\n",
       "    .dataframe tbody tr th:only-of-type {\n",
       "        vertical-align: middle;\n",
       "    }\n",
       "\n",
       "    .dataframe tbody tr th {\n",
       "        vertical-align: top;\n",
       "    }\n",
       "\n",
       "    .dataframe thead th {\n",
       "        text-align: right;\n",
       "    }\n",
       "</style>\n",
       "<table border=\"1\" class=\"dataframe\">\n",
       "  <thead>\n",
       "    <tr style=\"text-align: right;\">\n",
       "      <th></th>\n",
       "      <th>year</th>\n",
       "      <th>quarter</th>\n",
       "      <th>realgdp</th>\n",
       "      <th>realcons</th>\n",
       "      <th>realinv</th>\n",
       "      <th>realgovt</th>\n",
       "      <th>realdpi</th>\n",
       "      <th>cpi</th>\n",
       "      <th>m1</th>\n",
       "      <th>tbilrate</th>\n",
       "      <th>unemp</th>\n",
       "      <th>pop</th>\n",
       "      <th>infl</th>\n",
       "      <th>realint</th>\n",
       "    </tr>\n",
       "  </thead>\n",
       "  <tbody>\n",
       "    <tr>\n",
       "      <th>0</th>\n",
       "      <td>1959</td>\n",
       "      <td>1.0</td>\n",
       "      <td>2710.349</td>\n",
       "      <td>1707.4</td>\n",
       "      <td>286.898</td>\n",
       "      <td>470.045</td>\n",
       "      <td>1886.9</td>\n",
       "      <td>28.98</td>\n",
       "      <td>139.7</td>\n",
       "      <td>2.82</td>\n",
       "      <td>5.8</td>\n",
       "      <td>177.146</td>\n",
       "      <td>0.00</td>\n",
       "      <td>0.00</td>\n",
       "    </tr>\n",
       "    <tr>\n",
       "      <th>1</th>\n",
       "      <td>1959</td>\n",
       "      <td>2.0</td>\n",
       "      <td>2778.801</td>\n",
       "      <td>1733.7</td>\n",
       "      <td>310.859</td>\n",
       "      <td>481.301</td>\n",
       "      <td>1919.7</td>\n",
       "      <td>29.15</td>\n",
       "      <td>141.7</td>\n",
       "      <td>3.08</td>\n",
       "      <td>5.1</td>\n",
       "      <td>177.830</td>\n",
       "      <td>2.34</td>\n",
       "      <td>0.74</td>\n",
       "    </tr>\n",
       "    <tr>\n",
       "      <th>2</th>\n",
       "      <td>1959</td>\n",
       "      <td>3.0</td>\n",
       "      <td>2775.488</td>\n",
       "      <td>1751.8</td>\n",
       "      <td>289.226</td>\n",
       "      <td>491.260</td>\n",
       "      <td>1916.4</td>\n",
       "      <td>29.35</td>\n",
       "      <td>140.5</td>\n",
       "      <td>3.82</td>\n",
       "      <td>5.3</td>\n",
       "      <td>178.657</td>\n",
       "      <td>2.74</td>\n",
       "      <td>1.09</td>\n",
       "    </tr>\n",
       "    <tr>\n",
       "      <th>3</th>\n",
       "      <td>1959</td>\n",
       "      <td>4.0</td>\n",
       "      <td>2785.204</td>\n",
       "      <td>1753.7</td>\n",
       "      <td>299.356</td>\n",
       "      <td>484.052</td>\n",
       "      <td>1931.3</td>\n",
       "      <td>29.37</td>\n",
       "      <td>140.0</td>\n",
       "      <td>4.33</td>\n",
       "      <td>5.6</td>\n",
       "      <td>179.386</td>\n",
       "      <td>0.27</td>\n",
       "      <td>4.06</td>\n",
       "    </tr>\n",
       "    <tr>\n",
       "      <th>4</th>\n",
       "      <td>1960</td>\n",
       "      <td>1.0</td>\n",
       "      <td>2847.699</td>\n",
       "      <td>1770.5</td>\n",
       "      <td>331.722</td>\n",
       "      <td>462.199</td>\n",
       "      <td>1955.5</td>\n",
       "      <td>29.54</td>\n",
       "      <td>139.6</td>\n",
       "      <td>3.50</td>\n",
       "      <td>5.2</td>\n",
       "      <td>180.007</td>\n",
       "      <td>2.31</td>\n",
       "      <td>1.19</td>\n",
       "    </tr>\n",
       "  </tbody>\n",
       "</table>\n",
       "</div>"
      ],
      "text/plain": [
       "   year  quarter   realgdp  realcons  realinv  realgovt  realdpi    cpi  \\\n",
       "0  1959      1.0  2710.349    1707.4  286.898   470.045   1886.9  28.98   \n",
       "1  1959      2.0  2778.801    1733.7  310.859   481.301   1919.7  29.15   \n",
       "2  1959      3.0  2775.488    1751.8  289.226   491.260   1916.4  29.35   \n",
       "3  1959      4.0  2785.204    1753.7  299.356   484.052   1931.3  29.37   \n",
       "4  1960      1.0  2847.699    1770.5  331.722   462.199   1955.5  29.54   \n",
       "\n",
       "      m1  tbilrate  unemp      pop  infl  realint  \n",
       "0  139.7      2.82    5.8  177.146  0.00     0.00  \n",
       "1  141.7      3.08    5.1  177.830  2.34     0.74  \n",
       "2  140.5      3.82    5.3  178.657  2.74     1.09  \n",
       "3  140.0      4.33    5.6  179.386  0.27     4.06  \n",
       "4  139.6      3.50    5.2  180.007  2.31     1.19  "
      ]
     },
     "execution_count": 14,
     "metadata": {},
     "output_type": "execute_result"
    }
   ],
   "source": [
    "macro_df.head()"
   ]
  },
  {
   "cell_type": "code",
   "execution_count": 15,
   "metadata": {},
   "outputs": [],
   "source": [
    "index = pd.Index( sm.tsa.datetools.dates_from_range('1959Q1', '2009Q3'))"
   ]
  },
  {
   "cell_type": "code",
   "execution_count": 16,
   "metadata": {},
   "outputs": [],
   "source": [
    "macro_df.index = index"
   ]
  },
  {
   "cell_type": "code",
   "execution_count": 17,
   "metadata": {},
   "outputs": [
    {
     "data": {
      "text/html": [
       "<div>\n",
       "<style scoped>\n",
       "    .dataframe tbody tr th:only-of-type {\n",
       "        vertical-align: middle;\n",
       "    }\n",
       "\n",
       "    .dataframe tbody tr th {\n",
       "        vertical-align: top;\n",
       "    }\n",
       "\n",
       "    .dataframe thead th {\n",
       "        text-align: right;\n",
       "    }\n",
       "</style>\n",
       "<table border=\"1\" class=\"dataframe\">\n",
       "  <thead>\n",
       "    <tr style=\"text-align: right;\">\n",
       "      <th></th>\n",
       "      <th>year</th>\n",
       "      <th>quarter</th>\n",
       "      <th>realgdp</th>\n",
       "      <th>realcons</th>\n",
       "      <th>realinv</th>\n",
       "      <th>realgovt</th>\n",
       "      <th>realdpi</th>\n",
       "      <th>cpi</th>\n",
       "      <th>m1</th>\n",
       "      <th>tbilrate</th>\n",
       "      <th>unemp</th>\n",
       "      <th>pop</th>\n",
       "      <th>infl</th>\n",
       "      <th>realint</th>\n",
       "    </tr>\n",
       "  </thead>\n",
       "  <tbody>\n",
       "    <tr>\n",
       "      <th>2008-09-30</th>\n",
       "      <td>2008</td>\n",
       "      <td>3.0</td>\n",
       "      <td>13324.600</td>\n",
       "      <td>9267.7</td>\n",
       "      <td>1990.693</td>\n",
       "      <td>991.551</td>\n",
       "      <td>9838.3</td>\n",
       "      <td>216.889</td>\n",
       "      <td>1474.7</td>\n",
       "      <td>1.17</td>\n",
       "      <td>6.0</td>\n",
       "      <td>305.270</td>\n",
       "      <td>-3.16</td>\n",
       "      <td>4.33</td>\n",
       "    </tr>\n",
       "    <tr>\n",
       "      <th>2008-12-31</th>\n",
       "      <td>2008</td>\n",
       "      <td>4.0</td>\n",
       "      <td>13141.920</td>\n",
       "      <td>9195.3</td>\n",
       "      <td>1857.661</td>\n",
       "      <td>1007.273</td>\n",
       "      <td>9920.4</td>\n",
       "      <td>212.174</td>\n",
       "      <td>1576.5</td>\n",
       "      <td>0.12</td>\n",
       "      <td>6.9</td>\n",
       "      <td>305.952</td>\n",
       "      <td>-8.79</td>\n",
       "      <td>8.91</td>\n",
       "    </tr>\n",
       "    <tr>\n",
       "      <th>2009-03-31</th>\n",
       "      <td>2009</td>\n",
       "      <td>1.0</td>\n",
       "      <td>12925.410</td>\n",
       "      <td>9209.2</td>\n",
       "      <td>1558.494</td>\n",
       "      <td>996.287</td>\n",
       "      <td>9926.4</td>\n",
       "      <td>212.671</td>\n",
       "      <td>1592.8</td>\n",
       "      <td>0.22</td>\n",
       "      <td>8.1</td>\n",
       "      <td>306.547</td>\n",
       "      <td>0.94</td>\n",
       "      <td>-0.71</td>\n",
       "    </tr>\n",
       "    <tr>\n",
       "      <th>2009-06-30</th>\n",
       "      <td>2009</td>\n",
       "      <td>2.0</td>\n",
       "      <td>12901.504</td>\n",
       "      <td>9189.0</td>\n",
       "      <td>1456.678</td>\n",
       "      <td>1023.528</td>\n",
       "      <td>10077.5</td>\n",
       "      <td>214.469</td>\n",
       "      <td>1653.6</td>\n",
       "      <td>0.18</td>\n",
       "      <td>9.2</td>\n",
       "      <td>307.226</td>\n",
       "      <td>3.37</td>\n",
       "      <td>-3.19</td>\n",
       "    </tr>\n",
       "    <tr>\n",
       "      <th>2009-09-30</th>\n",
       "      <td>2009</td>\n",
       "      <td>3.0</td>\n",
       "      <td>12990.341</td>\n",
       "      <td>9256.0</td>\n",
       "      <td>1486.398</td>\n",
       "      <td>1044.088</td>\n",
       "      <td>10040.6</td>\n",
       "      <td>216.385</td>\n",
       "      <td>1673.9</td>\n",
       "      <td>0.12</td>\n",
       "      <td>9.6</td>\n",
       "      <td>308.013</td>\n",
       "      <td>3.56</td>\n",
       "      <td>-3.44</td>\n",
       "    </tr>\n",
       "  </tbody>\n",
       "</table>\n",
       "</div>"
      ],
      "text/plain": [
       "            year  quarter    realgdp  realcons   realinv  realgovt  realdpi  \\\n",
       "2008-09-30  2008      3.0  13324.600    9267.7  1990.693   991.551   9838.3   \n",
       "2008-12-31  2008      4.0  13141.920    9195.3  1857.661  1007.273   9920.4   \n",
       "2009-03-31  2009      1.0  12925.410    9209.2  1558.494   996.287   9926.4   \n",
       "2009-06-30  2009      2.0  12901.504    9189.0  1456.678  1023.528  10077.5   \n",
       "2009-09-30  2009      3.0  12990.341    9256.0  1486.398  1044.088  10040.6   \n",
       "\n",
       "                cpi      m1  tbilrate  unemp      pop  infl  realint  \n",
       "2008-09-30  216.889  1474.7      1.17    6.0  305.270 -3.16     4.33  \n",
       "2008-12-31  212.174  1576.5      0.12    6.9  305.952 -8.79     8.91  \n",
       "2009-03-31  212.671  1592.8      0.22    8.1  306.547  0.94    -0.71  \n",
       "2009-06-30  214.469  1653.6      0.18    9.2  307.226  3.37    -3.19  \n",
       "2009-09-30  216.385  1673.9      0.12    9.6  308.013  3.56    -3.44  "
      ]
     },
     "execution_count": 17,
     "metadata": {},
     "output_type": "execute_result"
    }
   ],
   "source": [
    "macro_df.tail()"
   ]
  },
  {
   "cell_type": "code",
   "execution_count": 18,
   "metadata": {},
   "outputs": [],
   "source": [
    "macro_df.to_csv('./data/macro_df_index.csv')"
   ]
  },
  {
   "cell_type": "code",
   "execution_count": 19,
   "metadata": {},
   "outputs": [],
   "source": [
    "index_df = pd.read_csv('../PractiseFiles/data/macro_df_index.csv', index_col=[0])"
   ]
  },
  {
   "cell_type": "code",
   "execution_count": 20,
   "metadata": {},
   "outputs": [
    {
     "data": {
      "text/html": [
       "<div>\n",
       "<style scoped>\n",
       "    .dataframe tbody tr th:only-of-type {\n",
       "        vertical-align: middle;\n",
       "    }\n",
       "\n",
       "    .dataframe tbody tr th {\n",
       "        vertical-align: top;\n",
       "    }\n",
       "\n",
       "    .dataframe thead th {\n",
       "        text-align: right;\n",
       "    }\n",
       "</style>\n",
       "<table border=\"1\" class=\"dataframe\">\n",
       "  <thead>\n",
       "    <tr style=\"text-align: right;\">\n",
       "      <th></th>\n",
       "      <th>year</th>\n",
       "      <th>quarter</th>\n",
       "      <th>realgdp</th>\n",
       "      <th>realcons</th>\n",
       "      <th>realinv</th>\n",
       "      <th>realgovt</th>\n",
       "      <th>realdpi</th>\n",
       "      <th>cpi</th>\n",
       "      <th>m1</th>\n",
       "      <th>tbilrate</th>\n",
       "      <th>unemp</th>\n",
       "      <th>pop</th>\n",
       "      <th>infl</th>\n",
       "      <th>realint</th>\n",
       "    </tr>\n",
       "  </thead>\n",
       "  <tbody>\n",
       "    <tr>\n",
       "      <th>2008-09-30</th>\n",
       "      <td>2008</td>\n",
       "      <td>3.0</td>\n",
       "      <td>13324.600</td>\n",
       "      <td>9267.7</td>\n",
       "      <td>1990.693</td>\n",
       "      <td>991.551</td>\n",
       "      <td>9838.3</td>\n",
       "      <td>216.889</td>\n",
       "      <td>1474.7</td>\n",
       "      <td>1.17</td>\n",
       "      <td>6.0</td>\n",
       "      <td>305.270</td>\n",
       "      <td>-3.16</td>\n",
       "      <td>4.33</td>\n",
       "    </tr>\n",
       "    <tr>\n",
       "      <th>2008-12-31</th>\n",
       "      <td>2008</td>\n",
       "      <td>4.0</td>\n",
       "      <td>13141.920</td>\n",
       "      <td>9195.3</td>\n",
       "      <td>1857.661</td>\n",
       "      <td>1007.273</td>\n",
       "      <td>9920.4</td>\n",
       "      <td>212.174</td>\n",
       "      <td>1576.5</td>\n",
       "      <td>0.12</td>\n",
       "      <td>6.9</td>\n",
       "      <td>305.952</td>\n",
       "      <td>-8.79</td>\n",
       "      <td>8.91</td>\n",
       "    </tr>\n",
       "    <tr>\n",
       "      <th>2009-03-31</th>\n",
       "      <td>2009</td>\n",
       "      <td>1.0</td>\n",
       "      <td>12925.410</td>\n",
       "      <td>9209.2</td>\n",
       "      <td>1558.494</td>\n",
       "      <td>996.287</td>\n",
       "      <td>9926.4</td>\n",
       "      <td>212.671</td>\n",
       "      <td>1592.8</td>\n",
       "      <td>0.22</td>\n",
       "      <td>8.1</td>\n",
       "      <td>306.547</td>\n",
       "      <td>0.94</td>\n",
       "      <td>-0.71</td>\n",
       "    </tr>\n",
       "    <tr>\n",
       "      <th>2009-06-30</th>\n",
       "      <td>2009</td>\n",
       "      <td>2.0</td>\n",
       "      <td>12901.504</td>\n",
       "      <td>9189.0</td>\n",
       "      <td>1456.678</td>\n",
       "      <td>1023.528</td>\n",
       "      <td>10077.5</td>\n",
       "      <td>214.469</td>\n",
       "      <td>1653.6</td>\n",
       "      <td>0.18</td>\n",
       "      <td>9.2</td>\n",
       "      <td>307.226</td>\n",
       "      <td>3.37</td>\n",
       "      <td>-3.19</td>\n",
       "    </tr>\n",
       "    <tr>\n",
       "      <th>2009-09-30</th>\n",
       "      <td>2009</td>\n",
       "      <td>3.0</td>\n",
       "      <td>12990.341</td>\n",
       "      <td>9256.0</td>\n",
       "      <td>1486.398</td>\n",
       "      <td>1044.088</td>\n",
       "      <td>10040.6</td>\n",
       "      <td>216.385</td>\n",
       "      <td>1673.9</td>\n",
       "      <td>0.12</td>\n",
       "      <td>9.6</td>\n",
       "      <td>308.013</td>\n",
       "      <td>3.56</td>\n",
       "      <td>-3.44</td>\n",
       "    </tr>\n",
       "  </tbody>\n",
       "</table>\n",
       "</div>"
      ],
      "text/plain": [
       "            year  quarter    realgdp  realcons   realinv  realgovt  realdpi  \\\n",
       "2008-09-30  2008      3.0  13324.600    9267.7  1990.693   991.551   9838.3   \n",
       "2008-12-31  2008      4.0  13141.920    9195.3  1857.661  1007.273   9920.4   \n",
       "2009-03-31  2009      1.0  12925.410    9209.2  1558.494   996.287   9926.4   \n",
       "2009-06-30  2009      2.0  12901.504    9189.0  1456.678  1023.528  10077.5   \n",
       "2009-09-30  2009      3.0  12990.341    9256.0  1486.398  1044.088  10040.6   \n",
       "\n",
       "                cpi      m1  tbilrate  unemp      pop  infl  realint  \n",
       "2008-09-30  216.889  1474.7      1.17    6.0  305.270 -3.16     4.33  \n",
       "2008-12-31  212.174  1576.5      0.12    6.9  305.952 -8.79     8.91  \n",
       "2009-03-31  212.671  1592.8      0.22    8.1  306.547  0.94    -0.71  \n",
       "2009-06-30  214.469  1653.6      0.18    9.2  307.226  3.37    -3.19  \n",
       "2009-09-30  216.385  1673.9      0.12    9.6  308.013  3.56    -3.44  "
      ]
     },
     "execution_count": 20,
     "metadata": {},
     "output_type": "execute_result"
    }
   ],
   "source": [
    "index_df.tail()"
   ]
  },
  {
   "cell_type": "code",
   "execution_count": 21,
   "metadata": {},
   "outputs": [
    {
     "name": "stdout",
     "output_type": "stream",
     "text": [
      "<class 'pandas.core.frame.DataFrame'>\n",
      "Index: 203 entries, 1959-03-31 to 2009-09-30\n",
      "Data columns (total 14 columns):\n",
      " #   Column    Non-Null Count  Dtype  \n",
      "---  ------    --------------  -----  \n",
      " 0   year      203 non-null    int64  \n",
      " 1   quarter   203 non-null    float64\n",
      " 2   realgdp   203 non-null    float64\n",
      " 3   realcons  203 non-null    float64\n",
      " 4   realinv   203 non-null    float64\n",
      " 5   realgovt  203 non-null    float64\n",
      " 6   realdpi   203 non-null    float64\n",
      " 7   cpi       203 non-null    float64\n",
      " 8   m1        203 non-null    float64\n",
      " 9   tbilrate  203 non-null    float64\n",
      " 10  unemp     203 non-null    float64\n",
      " 11  pop       203 non-null    float64\n",
      " 12  infl      203 non-null    float64\n",
      " 13  realint   203 non-null    float64\n",
      "dtypes: float64(13), int64(1)\n",
      "memory usage: 23.8+ KB\n"
     ]
    }
   ],
   "source": [
    "index_df.info()"
   ]
  },
  {
   "cell_type": "code",
   "execution_count": 22,
   "metadata": {},
   "outputs": [
    {
     "name": "stderr",
     "output_type": "stream",
     "text": [
      "D:\\Mark\\anaconda3\\envs\\finance-venv\\lib\\site-packages\\pandas\\plotting\\_matplotlib\\core.py:1235: UserWarning: FixedFormatter should only be used together with FixedLocator\n",
      "  ax.set_xticklabels(xticklabels)\n"
     ]
    },
    {
     "data": {
      "text/plain": [
       "Text(0.5, 1.0, 'Trend of Private Domestic Investment and Government Expenditure')"
      ]
     },
     "execution_count": 22,
     "metadata": {},
     "output_type": "execute_result"
    },
    {
     "data": {
      "text/plain": [
       "<Figure size 1440x720 with 0 Axes>"
      ]
     },
     "metadata": {},
     "output_type": "display_data"
    },
    {
     "data": {
      "image/png": "[encoded data removed]",
      "text/plain": [
       "<Figure size 1080x504 with 1 Axes>"
      ]
     },
     "metadata": {
      "needs_background": "light"
     },
     "output_type": "display_data"
    }
   ],
   "source": [
    "plt.figure(figsize=(20, 10))\n",
    "index_df[['realgovt', 'realinv']].plot(figsize=(15,7))\n",
    "plt.xlabel('Year')\n",
    "plt.ylabel('Value in $USD')\n",
    "plt.title('Trend of Private Domestic Investment and Government Expenditure')"
   ]
  },
  {
   "cell_type": "markdown",
   "metadata": {},
   "source": [
    "### Linear Regression of realgovt and realinv"
   ]
  },
  {
   "cell_type": "markdown",
   "metadata": {},
   "source": [
    "#### Is there a correlation between realinv and realgovt"
   ]
  },
  {
   "cell_type": "code",
   "execution_count": 23,
   "metadata": {},
   "outputs": [
    {
     "data": {
      "text/html": [
       "<div>\n",
       "<style scoped>\n",
       "    .dataframe tbody tr th:only-of-type {\n",
       "        vertical-align: middle;\n",
       "    }\n",
       "\n",
       "    .dataframe tbody tr th {\n",
       "        vertical-align: top;\n",
       "    }\n",
       "\n",
       "    .dataframe thead th {\n",
       "        text-align: right;\n",
       "    }\n",
       "</style>\n",
       "<table border=\"1\" class=\"dataframe\">\n",
       "  <thead>\n",
       "    <tr style=\"text-align: right;\">\n",
       "      <th></th>\n",
       "      <th>realgovt</th>\n",
       "      <th>realinv</th>\n",
       "    </tr>\n",
       "  </thead>\n",
       "  <tbody>\n",
       "    <tr>\n",
       "      <th>realgovt</th>\n",
       "      <td>1.000000</td>\n",
       "      <td>0.794797</td>\n",
       "    </tr>\n",
       "    <tr>\n",
       "      <th>realinv</th>\n",
       "      <td>0.794797</td>\n",
       "      <td>1.000000</td>\n",
       "    </tr>\n",
       "  </tbody>\n",
       "</table>\n",
       "</div>"
      ],
      "text/plain": [
       "          realgovt   realinv\n",
       "realgovt  1.000000  0.794797\n",
       "realinv   0.794797  1.000000"
      ]
     },
     "execution_count": 23,
     "metadata": {},
     "output_type": "execute_result"
    }
   ],
   "source": [
    "data = index_df[['realgovt', 'realinv']].corr()\n",
    "data"
   ]
  },
  {
   "cell_type": "markdown",
   "metadata": {},
   "source": [
    "##### -a 0.79 correlation hence a 79% correlation between realgovt and realinv"
   ]
  },
  {
   "cell_type": "code",
   "execution_count": 24,
   "metadata": {},
   "outputs": [
    {
     "data": {
      "image/png": "[encoded data removed]",
      "text/plain": [
       "<Figure size 720x576 with 2 Axes>"
      ]
     },
     "metadata": {
      "needs_background": "light"
     },
     "output_type": "display_data"
    }
   ],
   "source": [
    "plt.figure(figsize=(10, 8))\n",
    "plt.title(\"Correlation of Private Domestic Investment and Federal Expenditure and Investment\", \n",
    "         loc='center')\n",
    "sns.heatmap(data=data, annot=True)\n",
    "plt.savefig('./data/images/heatmap.jpg')"
   ]
  },
  {
   "cell_type": "code",
   "execution_count": 25,
   "metadata": {},
   "outputs": [
    {
     "data": {
      "text/plain": [
       "<Figure size 432x288 with 0 Axes>"
      ]
     },
     "metadata": {},
     "output_type": "display_data"
    }
   ],
   "source": [
    "plt.savefig('./data/images/heatmap.png')"
   ]
  },
  {
   "cell_type": "markdown",
   "metadata": {},
   "source": [
    "#### Can we performa a linear regression?"
   ]
  },
  {
   "cell_type": "markdown",
   "metadata": {},
   "source": [
    "capture federal consumption expenditureand gross investment index_df['realgovt'] from X of index_df['realinv'] i.e private domestic investment"
   ]
  },
  {
   "cell_type": "code",
   "execution_count": 26,
   "metadata": {},
   "outputs": [
    {
     "name": "stdout",
     "output_type": "stream",
     "text": [
      "::\n",
      "    Number of Observations - 203\n",
      "\n",
      "    Number of Variables - 14\n",
      "\n",
      "    Variable name definitions::\n",
      "\n",
      "        year      - 1959q1 - 2009q3\n",
      "        quarter   - 1-4\n",
      "        realgdp   - Real gross domestic product (Bil. of chained 2005 US$,\n",
      "                    seasonally adjusted annual rate)\n",
      "        realcons  - Real personal consumption expenditures (Bil. of chained\n",
      "                    2005 US$, seasonally adjusted annual rate)\n",
      "        realinv   - Real gross private domestic investment (Bil. of chained\n",
      "                    2005 US$, seasonally adjusted annual rate)\n",
      "        realgovt  - Real federal consumption expenditures & gross investment\n",
      "                    (Bil. of chained 2005 US$, seasonally adjusted annual rate)\n",
      "        realdpi   - Real private disposable income (Bil. of chained 2005\n",
      "                    US$, seasonally adjusted annual rate)\n",
      "        cpi       - End of the quarter consumer price index for all urban\n",
      "                    consumers: all items (1982-84 = 100, seasonally adjusted).\n",
      "        m1        - End of the quarter M1 nominal money stock (Seasonally\n",
      "                    adjusted)\n",
      "        tbilrate  - Quarterly monthly average of the monthly 3-month\n",
      "                    treasury bill: secondary market rate\n",
      "        unemp     - Seasonally adjusted unemployment rate (%)\n",
      "        pop       - End of the quarter total population: all ages incl. armed\n",
      "                    forces over seas\n",
      "        infl      - Inflation rate (ln(cpi_{t}/cpi_{t-1}) * 400)\n",
      "        realint   - Real interest rate (tbilrate - infl)\n",
      "\n"
     ]
    }
   ],
   "source": [
    "print(sm.datasets.macrodata.NOTE)"
   ]
  },
  {
   "cell_type": "code",
   "execution_count": 27,
   "metadata": {},
   "outputs": [],
   "source": [
    "X = sm.add_constant(index_df['realgovt'])\n",
    "y = index_df['realinv']"
   ]
  },
  {
   "cell_type": "code",
   "execution_count": 28,
   "metadata": {},
   "outputs": [
    {
     "data": {
      "text/html": [
       "<div>\n",
       "<style scoped>\n",
       "    .dataframe tbody tr th:only-of-type {\n",
       "        vertical-align: middle;\n",
       "    }\n",
       "\n",
       "    .dataframe tbody tr th {\n",
       "        vertical-align: top;\n",
       "    }\n",
       "\n",
       "    .dataframe thead th {\n",
       "        text-align: right;\n",
       "    }\n",
       "</style>\n",
       "<table border=\"1\" class=\"dataframe\">\n",
       "  <thead>\n",
       "    <tr style=\"text-align: right;\">\n",
       "      <th></th>\n",
       "      <th>const</th>\n",
       "      <th>realgovt</th>\n",
       "    </tr>\n",
       "  </thead>\n",
       "  <tbody>\n",
       "    <tr>\n",
       "      <th>1959-03-31</th>\n",
       "      <td>1.0</td>\n",
       "      <td>470.045</td>\n",
       "    </tr>\n",
       "    <tr>\n",
       "      <th>1959-06-30</th>\n",
       "      <td>1.0</td>\n",
       "      <td>481.301</td>\n",
       "    </tr>\n",
       "    <tr>\n",
       "      <th>1959-09-30</th>\n",
       "      <td>1.0</td>\n",
       "      <td>491.260</td>\n",
       "    </tr>\n",
       "    <tr>\n",
       "      <th>1959-12-31</th>\n",
       "      <td>1.0</td>\n",
       "      <td>484.052</td>\n",
       "    </tr>\n",
       "    <tr>\n",
       "      <th>1960-03-31</th>\n",
       "      <td>1.0</td>\n",
       "      <td>462.199</td>\n",
       "    </tr>\n",
       "  </tbody>\n",
       "</table>\n",
       "</div>"
      ],
      "text/plain": [
       "            const  realgovt\n",
       "1959-03-31    1.0   470.045\n",
       "1959-06-30    1.0   481.301\n",
       "1959-09-30    1.0   491.260\n",
       "1959-12-31    1.0   484.052\n",
       "1960-03-31    1.0   462.199"
      ]
     },
     "execution_count": 28,
     "metadata": {},
     "output_type": "execute_result"
    }
   ],
   "source": [
    "X.head()"
   ]
  },
  {
   "cell_type": "code",
   "execution_count": 29,
   "metadata": {},
   "outputs": [
    {
     "data": {
      "text/plain": [
       "1959-03-31     286.898\n",
       "1959-06-30     310.859\n",
       "1959-09-30     289.226\n",
       "1959-12-31     299.356\n",
       "1960-03-31     331.722\n",
       "                ...   \n",
       "2008-09-30    1990.693\n",
       "2008-12-31    1857.661\n",
       "2009-03-31    1558.494\n",
       "2009-06-30    1456.678\n",
       "2009-09-30    1486.398\n",
       "Name: realinv, Length: 203, dtype: float64"
      ]
     },
     "execution_count": 29,
     "metadata": {},
     "output_type": "execute_result"
    }
   ],
   "source": [
    "y"
   ]
  },
  {
   "cell_type": "code",
   "execution_count": 30,
   "metadata": {},
   "outputs": [],
   "source": [
    "model = sm.OLS(y, X)"
   ]
  },
  {
   "cell_type": "code",
   "execution_count": 31,
   "metadata": {},
   "outputs": [
    {
     "data": {
      "text/plain": [
       "<statsmodels.regression.linear_model.OLS at 0x2b1d67c87f0>"
      ]
     },
     "execution_count": 31,
     "metadata": {},
     "output_type": "execute_result"
    }
   ],
   "source": [
    "model"
   ]
  },
  {
   "cell_type": "code",
   "execution_count": 32,
   "metadata": {},
   "outputs": [],
   "source": [
    "results = model.fit()"
   ]
  },
  {
   "cell_type": "code",
   "execution_count": 33,
   "metadata": {},
   "outputs": [
    {
     "name": "stdout",
     "output_type": "stream",
     "text": [
      "                            OLS Regression Results                            \n",
      "==============================================================================\n",
      "Dep. Variable:                realinv   R-squared:                       0.632\n",
      "Model:                            OLS   Adj. R-squared:                  0.630\n",
      "Method:                 Least Squares   F-statistic:                     344.8\n",
      "Date:                Wed, 23 Sep 2020   Prob (F-statistic):           1.78e-45\n",
      "Time:                        15:18:03   Log-Likelihood:                -1479.6\n",
      "No. Observations:                 203   AIC:                             2963.\n",
      "Df Residuals:                     201   BIC:                             2970.\n",
      "Df Model:                           1                                         \n",
      "Covariance Type:            nonrobust                                         \n",
      "==============================================================================\n",
      "                 coef    std err          t      P>|t|      [0.025      0.975]\n",
      "------------------------------------------------------------------------------\n",
      "const      -1177.0037    120.558     -9.763      0.000   -1414.724    -939.284\n",
      "realgovt       3.3013      0.178     18.568      0.000       2.951       3.652\n",
      "==============================================================================\n",
      "Omnibus:                        8.118   Durbin-Watson:                   0.032\n",
      "Prob(Omnibus):                  0.017   Jarque-Bera (JB):                6.521\n",
      "Skew:                           0.342   Prob(JB):                       0.0384\n",
      "Kurtosis:                       2.449   Cond. No.                     3.27e+03\n",
      "==============================================================================\n",
      "\n",
      "Notes:\n",
      "[1] Standard Errors assume that the covariance matrix of the errors is correctly specified.\n",
      "[2] The condition number is large, 3.27e+03. This might indicate that there are\n",
      "strong multicollinearity or other numerical problems.\n"
     ]
    }
   ],
   "source": [
    "print(results.summary())"
   ]
  },
  {
   "cell_type": "code",
   "execution_count": 34,
   "metadata": {},
   "outputs": [
    {
     "data": {
      "text/html": [
       "<table class=\"simpletable\">\n",
       "<tr>\n",
       "        <td>Model:</td>               <td>OLS</td>         <td>Adj. R-squared:</td>      <td>0.630</td>  \n",
       "</tr>\n",
       "<tr>\n",
       "  <td>Dependent Variable:</td>      <td>realinv</td>            <td>AIC:</td>          <td>2963.2626</td>\n",
       "</tr>\n",
       "<tr>\n",
       "         <td>Date:</td>        <td>2020-09-23 15:18</td>        <td>BIC:</td>          <td>2969.8890</td>\n",
       "</tr>\n",
       "<tr>\n",
       "   <td>No. Observations:</td>         <td>203</td>         <td>Log-Likelihood:</td>     <td>-1479.6</td> \n",
       "</tr>\n",
       "<tr>\n",
       "       <td>Df Model:</td>              <td>1</td>           <td>F-statistic:</td>        <td>344.8</td>  \n",
       "</tr>\n",
       "<tr>\n",
       "     <td>Df Residuals:</td>           <td>201</td>       <td>Prob (F-statistic):</td>  <td>1.78e-45</td> \n",
       "</tr>\n",
       "<tr>\n",
       "      <td>R-squared:</td>            <td>0.632</td>            <td>Scale:</td>        <td>1.2671e+05</td>\n",
       "</tr>\n",
       "</table>\n",
       "<table class=\"simpletable\">\n",
       "<tr>\n",
       "      <td></td>        <th>Coef.</th>   <th>Std.Err.</th>    <th>t</th>     <th>P>|t|</th>   <th>[0.025</th>    <th>0.975]</th>  \n",
       "</tr>\n",
       "<tr>\n",
       "  <th>const</th>    <td>-1177.0037</td> <td>120.5577</td> <td>-9.7630</td> <td>0.0000</td> <td>-1414.7238</td> <td>-939.2836</td>\n",
       "</tr>\n",
       "<tr>\n",
       "  <th>realgovt</th>   <td>3.3013</td>    <td>0.1778</td>  <td>18.5676</td> <td>0.0000</td>   <td>2.9507</td>    <td>3.6519</td>  \n",
       "</tr>\n",
       "</table>\n",
       "<table class=\"simpletable\">\n",
       "<tr>\n",
       "     <td>Omnibus:</td>    <td>8.118</td>  <td>Durbin-Watson:</td>   <td>0.032</td>\n",
       "</tr>\n",
       "<tr>\n",
       "  <td>Prob(Omnibus):</td> <td>0.017</td> <td>Jarque-Bera (JB):</td> <td>6.521</td>\n",
       "</tr>\n",
       "<tr>\n",
       "       <td>Skew:</td>     <td>0.342</td>     <td>Prob(JB):</td>     <td>0.038</td>\n",
       "</tr>\n",
       "<tr>\n",
       "     <td>Kurtosis:</td>   <td>2.449</td>  <td>Condition No.:</td>   <td>3272</td> \n",
       "</tr>\n",
       "</table>"
      ],
      "text/plain": [
       "<class 'statsmodels.iolib.summary2.Summary'>\n",
       "\"\"\"\n",
       "                  Results: Ordinary least squares\n",
       "===================================================================\n",
       "Model:              OLS              Adj. R-squared:     0.630     \n",
       "Dependent Variable: realinv          AIC:                2963.2626 \n",
       "Date:               2020-09-23 15:18 BIC:                2969.8890 \n",
       "No. Observations:   203              Log-Likelihood:     -1479.6   \n",
       "Df Model:           1                F-statistic:        344.8     \n",
       "Df Residuals:       201              Prob (F-statistic): 1.78e-45  \n",
       "R-squared:          0.632            Scale:              1.2671e+05\n",
       "-------------------------------------------------------------------\n",
       "              Coef.    Std.Err.    t    P>|t|    [0.025     0.975] \n",
       "-------------------------------------------------------------------\n",
       "const       -1177.0037 120.5577 -9.7630 0.0000 -1414.7238 -939.2836\n",
       "realgovt        3.3013   0.1778 18.5676 0.0000     2.9507    3.6519\n",
       "-------------------------------------------------------------------\n",
       "Omnibus:                8.118        Durbin-Watson:           0.032\n",
       "Prob(Omnibus):          0.017        Jarque-Bera (JB):        6.521\n",
       "Skew:                   0.342        Prob(JB):                0.038\n",
       "Kurtosis:               2.449        Condition No.:           3272 \n",
       "===================================================================\n",
       "* The condition number is large (3e+03). This might indicate\n",
       "strong multicollinearity or other numerical problems.\n",
       "\"\"\""
      ]
     },
     "execution_count": 34,
     "metadata": {},
     "output_type": "execute_result"
    }
   ],
   "source": [
    "results.summary2()"
   ]
  },
  {
   "cell_type": "code",
   "execution_count": 35,
   "metadata": {},
   "outputs": [
    {
     "data": {
      "text/plain": [
       "1.7835845286436183e-45"
      ]
     },
     "execution_count": 35,
     "metadata": {},
     "output_type": "execute_result"
    }
   ],
   "source": [
    "results.f_pvalue"
   ]
  },
  {
   "cell_type": "code",
   "execution_count": 36,
   "metadata": {},
   "outputs": [
    {
     "data": {
      "text/plain": [
       "3271.867803473453"
      ]
     },
     "execution_count": 36,
     "metadata": {},
     "output_type": "execute_result"
    }
   ],
   "source": [
    "results.condition_number"
   ]
  },
  {
   "cell_type": "code",
   "execution_count": 37,
   "metadata": {},
   "outputs": [
    {
     "data": {
      "text/html": [
       "<div>\n",
       "<style scoped>\n",
       "    .dataframe tbody tr th:only-of-type {\n",
       "        vertical-align: middle;\n",
       "    }\n",
       "\n",
       "    .dataframe tbody tr th {\n",
       "        vertical-align: top;\n",
       "    }\n",
       "\n",
       "    .dataframe thead th {\n",
       "        text-align: right;\n",
       "    }\n",
       "</style>\n",
       "<table border=\"1\" class=\"dataframe\">\n",
       "  <thead>\n",
       "    <tr style=\"text-align: right;\">\n",
       "      <th></th>\n",
       "      <th>student_resid</th>\n",
       "      <th>unadj_p</th>\n",
       "      <th>bonf(p)</th>\n",
       "    </tr>\n",
       "  </thead>\n",
       "  <tbody>\n",
       "    <tr>\n",
       "      <th>1959-03-31</th>\n",
       "      <td>-0.248053</td>\n",
       "      <td>0.804348</td>\n",
       "      <td>1.0</td>\n",
       "    </tr>\n",
       "    <tr>\n",
       "      <th>1959-06-30</th>\n",
       "      <td>-0.285173</td>\n",
       "      <td>0.775807</td>\n",
       "      <td>1.0</td>\n",
       "    </tr>\n",
       "    <tr>\n",
       "      <th>1959-09-30</th>\n",
       "      <td>-0.438902</td>\n",
       "      <td>0.661206</td>\n",
       "      <td>1.0</td>\n",
       "    </tr>\n",
       "    <tr>\n",
       "      <th>1959-12-31</th>\n",
       "      <td>-0.343242</td>\n",
       "      <td>0.731777</td>\n",
       "      <td>1.0</td>\n",
       "    </tr>\n",
       "    <tr>\n",
       "      <th>1960-03-31</th>\n",
       "      <td>-0.048414</td>\n",
       "      <td>0.961435</td>\n",
       "      <td>1.0</td>\n",
       "    </tr>\n",
       "    <tr>\n",
       "      <th>...</th>\n",
       "      <td>...</td>\n",
       "      <td>...</td>\n",
       "      <td>...</td>\n",
       "    </tr>\n",
       "    <tr>\n",
       "      <th>2008-09-30</th>\n",
       "      <td>-0.301211</td>\n",
       "      <td>0.763567</td>\n",
       "      <td>1.0</td>\n",
       "    </tr>\n",
       "    <tr>\n",
       "      <th>2008-12-31</th>\n",
       "      <td>-0.830380</td>\n",
       "      <td>0.407314</td>\n",
       "      <td>1.0</td>\n",
       "    </tr>\n",
       "    <tr>\n",
       "      <th>2009-03-31</th>\n",
       "      <td>-1.587071</td>\n",
       "      <td>0.114076</td>\n",
       "      <td>1.0</td>\n",
       "    </tr>\n",
       "    <tr>\n",
       "      <th>2009-06-30</th>\n",
       "      <td>-2.153191</td>\n",
       "      <td>0.032501</td>\n",
       "      <td>1.0</td>\n",
       "    </tr>\n",
       "    <tr>\n",
       "      <th>2009-09-30</th>\n",
       "      <td>-2.270782</td>\n",
       "      <td>0.024226</td>\n",
       "      <td>1.0</td>\n",
       "    </tr>\n",
       "  </tbody>\n",
       "</table>\n",
       "<p>203 rows × 3 columns</p>\n",
       "</div>"
      ],
      "text/plain": [
       "            student_resid   unadj_p  bonf(p)\n",
       "1959-03-31      -0.248053  0.804348      1.0\n",
       "1959-06-30      -0.285173  0.775807      1.0\n",
       "1959-09-30      -0.438902  0.661206      1.0\n",
       "1959-12-31      -0.343242  0.731777      1.0\n",
       "1960-03-31      -0.048414  0.961435      1.0\n",
       "...                   ...       ...      ...\n",
       "2008-09-30      -0.301211  0.763567      1.0\n",
       "2008-12-31      -0.830380  0.407314      1.0\n",
       "2009-03-31      -1.587071  0.114076      1.0\n",
       "2009-06-30      -2.153191  0.032501      1.0\n",
       "2009-09-30      -2.270782  0.024226      1.0\n",
       "\n",
       "[203 rows x 3 columns]"
      ]
     },
     "execution_count": 37,
     "metadata": {},
     "output_type": "execute_result"
    }
   ],
   "source": [
    "results.outlier_test(method='bonf')"
   ]
  },
  {
   "cell_type": "code",
   "execution_count": 57,
   "metadata": {},
   "outputs": [
    {
     "data": {
      "text/plain": [
       "const      -1177.003679\n",
       "realgovt       3.301331\n",
       "dtype: float64"
      ]
     },
     "execution_count": 57,
     "metadata": {},
     "output_type": "execute_result"
    }
   ],
   "source": [
    "results.params"
   ]
  },
  {
   "cell_type": "code",
   "execution_count": 58,
   "metadata": {},
   "outputs": [
    {
     "data": {
      "text/plain": [
       "const       -9.762990\n",
       "realgovt    18.567561\n",
       "dtype: float64"
      ]
     },
     "execution_count": 58,
     "metadata": {},
     "output_type": "execute_result"
    }
   ],
   "source": [
    "results.tvalues"
   ]
  },
  {
   "cell_type": "code",
   "execution_count": 60,
   "metadata": {},
   "outputs": [
    {
     "name": "stdout",
     "output_type": "stream",
     "text": [
      "                             Test for Constraints                             \n",
      "==============================================================================\n",
      "                 coef    std err          t      P>|t|      [0.025      0.975]\n",
      "------------------------------------------------------------------------------\n",
      "c0         -1177.0037    120.558     -9.763      0.000   -1414.724    -939.284\n",
      "==============================================================================\n"
     ]
    }
   ],
   "source": [
    "print(results.t_test([1,0]))"
   ]
  },
  {
   "cell_type": "code",
   "execution_count": 38,
   "metadata": {},
   "outputs": [
    {
     "data": {
      "text/plain": [
       "array([ 374.77054816,  411.93033223,  444.80828972,  421.01229438,\n",
       "        348.86830351,  342.92920866,  390.05901298,  395.86275324,\n",
       "        393.94798114,  408.71813697,  453.28610827,  481.98458045,\n",
       "        542.85782658,  549.81043011,  601.87902591,  592.2193308 ,\n",
       "        549.31853176,  533.44242998,  628.47124878,  580.56893297,\n",
       "        571.6652427 ,  560.07426883,  546.31762169,  521.8712641 ,\n",
       "        500.09238212,  503.14611349,  570.87292321,  619.31995868,\n",
       "        660.4941615 ,  709.28123408,  785.68394221,  802.23681689,\n",
       "        938.09980139,  907.55588506,  940.81349565,  936.62080501,\n",
       "        973.41083999,  956.13497378,  937.8786122 ,  925.04963913,\n",
       "        913.47847325,  880.25387598,  881.74937901,  826.57423055,\n",
       "        786.91864008,  725.41153836,  697.30400446,  687.14580833,\n",
       "        614.65847901,  588.89489027,  581.43718307,  526.94541016,\n",
       "        533.7197418 ,  561.05806553,  467.44221648,  462.2393185 ,\n",
       "        489.63376486,  463.86687478,  394.08993839,  395.00440713,\n",
       "        444.09190085,  441.23294803,  449.18585491,  461.03763394,\n",
       "        442.63931512,  429.68489146,  469.81917495,  474.12741218,\n",
       "        459.03042457,  455.61024544,  451.01809373,  455.22398968,\n",
       "        468.73963965,  495.76433691,  505.37121072,  488.79522673,\n",
       "        494.50652972,  534.29417343,  540.34551353,  555.47551446,\n",
       "        557.92510221,  579.43657636,  576.76910075,  576.41915964,\n",
       "        632.50547552,  677.99781956,  652.89779839,  658.96564515,\n",
       "        696.89133806,  752.75646475,  750.61059946,  771.19439954,\n",
       "        774.22502159,  791.92015686,  821.5231938 ,  880.73917167,\n",
       "        905.71704358,  950.11664699, 1009.83772853,  933.19732455,\n",
       "        951.14996366, 1017.85005937, 1009.44817145, 1082.03784204,\n",
       "       1106.23990112, 1162.06871316, 1240.57767061, 1239.6565992 ,\n",
       "       1226.77810616, 1303.39870215, 1397.27535637, 1357.33255009,\n",
       "       1372.43944169, 1407.81320558, 1410.59292646, 1449.09635233,\n",
       "       1377.73477695, 1351.74999902, 1332.81686454, 1408.15324269,\n",
       "       1355.1965888 , 1412.14785345, 1437.05309608, 1423.93030453,\n",
       "       1463.00816204, 1466.17083733, 1442.64555115, 1465.79448557,\n",
       "       1486.42780562, 1494.04067539, 1444.21038214, 1392.67990332,\n",
       "       1393.30715625, 1390.6462833 , 1419.95220043, 1421.35526619,\n",
       "       1341.58520023, 1306.11899907, 1279.93614126, 1292.72879969,\n",
       "       1204.2069047 , 1190.70115873, 1255.71427419, 1189.06699978,\n",
       "       1184.52436804, 1175.1683954 , 1159.18004836, 1071.47028084,\n",
       "       1118.29636269, 1151.00265096, 1109.96380272, 1103.3710443 ,\n",
       "       1072.6719654 , 1112.55204639, 1105.07783253, 1101.94156788,\n",
       "       1030.87050965, 1091.6183052 , 1072.76110134, 1094.79748715,\n",
       "       1079.78963548, 1079.76652616, 1127.11421834, 1178.31456404,\n",
       "       1085.12128538, 1175.66029375, 1130.05570445, 1119.39240465,\n",
       "       1168.2719145 , 1218.51817548, 1234.59565846, 1263.72990636,\n",
       "       1321.82343162, 1379.57361843, 1420.06444569, 1463.95234276,\n",
       "       1464.70834761, 1592.07040426, 1594.78739984, 1615.00475215,\n",
       "       1650.81759309, 1666.89507607, 1716.23347097, 1680.61540857,\n",
       "       1692.52661157, 1695.29972978, 1762.48181985, 1713.49996873,\n",
       "       1795.88138768, 1770.55357465, 1767.79036043, 1775.72015799,\n",
       "       1737.2992654 , 1789.94559417, 1856.86357774, 1877.09083405,\n",
       "       1937.37974456, 1996.49998382, 2096.4345808 , 2148.33811004,\n",
       "       2112.06968539, 2202.00124881, 2269.87661844])"
      ]
     },
     "execution_count": 38,
     "metadata": {},
     "output_type": "execute_result"
    }
   ],
   "source": [
    "y_pred = results.predict()\n",
    "y_pred"
   ]
  },
  {
   "cell_type": "code",
   "execution_count": 39,
   "metadata": {},
   "outputs": [],
   "source": [
    "index_df['pred_realinv'] = y_pred"
   ]
  },
  {
   "cell_type": "code",
   "execution_count": 40,
   "metadata": {},
   "outputs": [
    {
     "name": "stdout",
     "output_type": "stream",
     "text": [
      "<class 'pandas.core.frame.DataFrame'>\n",
      "Index: 203 entries, 1959-03-31 to 2009-09-30\n",
      "Data columns (total 15 columns):\n",
      " #   Column        Non-Null Count  Dtype  \n",
      "---  ------        --------------  -----  \n",
      " 0   year          203 non-null    int64  \n",
      " 1   quarter       203 non-null    float64\n",
      " 2   realgdp       203 non-null    float64\n",
      " 3   realcons      203 non-null    float64\n",
      " 4   realinv       203 non-null    float64\n",
      " 5   realgovt      203 non-null    float64\n",
      " 6   realdpi       203 non-null    float64\n",
      " 7   cpi           203 non-null    float64\n",
      " 8   m1            203 non-null    float64\n",
      " 9   tbilrate      203 non-null    float64\n",
      " 10  unemp         203 non-null    float64\n",
      " 11  pop           203 non-null    float64\n",
      " 12  infl          203 non-null    float64\n",
      " 13  realint       203 non-null    float64\n",
      " 14  pred_realinv  203 non-null    float64\n",
      "dtypes: float64(14), int64(1)\n",
      "memory usage: 35.4+ KB\n"
     ]
    }
   ],
   "source": [
    "index_df.info()"
   ]
  },
  {
   "cell_type": "code",
   "execution_count": 56,
   "metadata": {},
   "outputs": [
    {
     "name": "stderr",
     "output_type": "stream",
     "text": [
      "D:\\Mark\\anaconda3\\envs\\finance-venv\\lib\\site-packages\\pandas\\plotting\\_matplotlib\\core.py:1235: UserWarning: FixedFormatter should only be used together with FixedLocator\n",
      "  ax.set_xticklabels(xticklabels)\n",
      "<ipython-input-56-86f20b0f417e>:9: MatplotlibDeprecationWarning: savefig() got unexpected keyword argument \"papertype\" which is no longer supported as of 3.3 and will become an error two minor releases later\n",
      "  plt.savefig('./data/images/final_plot_dpi.jpg', format='jpg',dpi=150.5,\n"
     ]
    },
    {
     "data": {
      "text/plain": [
       "<Figure size 1440x720 with 0 Axes>"
      ]
     },
     "metadata": {},
     "output_type": "display_data"
    },
    {
     "data": {
      "image/png": "[encoded data removed]",
      "text/plain": [
       "<Figure size 1080x504 with 1 Axes>"
      ]
     },
     "metadata": {
      "needs_background": "light"
     },
     "output_type": "display_data"
    }
   ],
   "source": [
    "plt.figure(figsize=(20, 10))\n",
    "index_df[['realinv','realgovt', 'pred_realinv']].plot(figsize=(15, 7))\n",
    "plt.xlabel('Year')\n",
    "plt.ylabel('Value in $USD')\n",
    "plt.title('Government Expenditure & Investment vs Private Domestic Investment and its Predicted Values')\n",
    "plt.legend()\n",
    "#plt.show()\n",
    "plt.savefig('./data/images/final_plot.png')\n",
    "plt.savefig('./data/images/final_plot_dpi.jpg', format='jpg',dpi=150.5,\n",
    "            pad_inches=0.1, transparent=False,\n",
    "            papertype='letter' )"
   ]
  },
  {
   "cell_type": "markdown",
   "metadata": {},
   "source": [
    "We are trying to predict private domestic investment based on government expenditure. <br>\n",
    "We can see the prediction values of private domestic investment matches the curve of the actual government expenditure. <br>\n",
    "There are subtle dips in goverment expenditure where there is a spike in actual government expenses. <br>\n",
    "From the financial crash, there was a great dip in private domestic investment. <br>\n",
    "The prediction values fail to capture this dip as they are only considering the government expenditure which had a subtle increase during that period.<br>\n",
    "The model is therefore <b>Linear</b> in that it follows closely with its Independent X to predict the dependent Y inorder to get the values for the yhat"
   ]
  }
 ],
 "metadata": {
  "kernelspec": {
   "display_name": "Python 3",
   "language": "python",
   "name": "python3"
  },
  "language_info": {
   "codemirror_mode": {
    "name": "ipython",
    "version": 3
   },
   "file_extension": ".py",
   "mimetype": "text/x-python",
   "name": "python",
   "nbconvert_exporter": "python",
   "pygments_lexer": "ipython3",
   "version": "3.8.5"
  }
 },
 "nbformat": 4,
 "nbformat_minor": 4
}
